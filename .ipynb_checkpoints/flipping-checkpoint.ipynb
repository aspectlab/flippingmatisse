{
 "cells": [
  {
   "cell_type": "markdown",
   "metadata": {},
   "source": [
    "# Triplet Network for Identifying \"Flips\" in Matisse dataset\n"
   ]
  },
  {
   "cell_type": "markdown",
   "metadata": {},
   "source": [
    "**version 0.1** -- 05/04/2021 -- AGK -- initial version<br>\n",
    "**version 0.2** -- 05/11/2021 -- AGK -- scaled features to 0.5 radius hypersphere, permuted output file to adopt Yale ICPH ordering"
   ]
  },
  {
   "cell_type": "markdown",
   "metadata": {},
   "source": [
    "## Import necessary libraries"
   ]
  },
  {
   "cell_type": "code",
   "execution_count": null,
   "metadata": {},
   "outputs": [],
   "source": [
    "import tensorflow as tf\n",
    "import numpy as np\n",
    "import random\n",
    "import matplotlib.pyplot as plt\n",
    "import scipy.io as sio\n",
    "from sklearn.metrics.pairwise import euclidean_distances\n",
    "from tabulate import tabulate\n",
    "from IPython.display import clear_output"
   ]
  },
  {
   "cell_type": "markdown",
   "metadata": {},
   "source": [
    "## Tweakable parameters"
   ]
  },
  {
   "cell_type": "code",
   "execution_count": null,
   "metadata": {},
   "outputs": [],
   "source": [
    "TRAIN_MODE = False                 # set to True if we need to train, set to False to load pre-trained model\n",
    "TRAINDATA_FILE = 'data/matisse_aug_valid.npz'  # file containing training and validation data set\n",
    "TESTDATA_FILE =  'data/matisse.npz'   # file containing test data set\n",
    "MODEL_FILENAME = 'fm_model'        # file to load pre-trained model (if TRAIN_MODE=False)\n",
    "EMB_SIZE = 16                      # num elements in feature vector / embedding output of NN\n",
    "BATCH_SIZE = 512                   # size of each batch\n",
    "EPOCHS = 400                       # number of epochs to run\n",
    "ALPHA = 0.5                        # triplet loss parameter\n",
    "L2NORM = True                      # indicates whether embeddings are L2 normalized to hypersphere\n",
    "JUPYTER = True                     # true for live loss plotting (.ipynb), false to save plots to files (.py)"
   ]
  },
  {
   "cell_type": "markdown",
   "metadata": {},
   "source": [
    "## Define functions to assist with triplet data generation and triplet loss"
   ]
  },
  {
   "cell_type": "code",
   "execution_count": null,
   "metadata": {},
   "outputs": [],
   "source": [
    "# function to create a batch of triplets\n",
    "def create_batch(x, y, tiles_per_image, batch_size=256):\n",
    "    x_anchors = np.zeros((batch_size, x.shape[1], x.shape[1],1))\n",
    "    x_positives = np.zeros((batch_size, x.shape[1], x.shape[1],1))\n",
    "    x_negatives = np.zeros((batch_size, x.shape[1], x.shape[1],1))\n",
    "    \n",
    "    for i in range(0, batch_size):\n",
    "        # Pick a random anchor\n",
    "        random_index = random.randint(0, x.shape[0] - 1)  # pick a random index for anchor\n",
    "        x_anchors[i] = x[random_index]                    # grab anchor image\n",
    "        \n",
    "        # grab indices of all images in same class, and those not in same class\n",
    "        indices_for_pos = np.squeeze(np.where(y == y[random_index]))\n",
    "        startIdx=np.int64(np.floor(random_index/tiles_per_image/4)*tiles_per_image*4)\n",
    "        indices_for_neg = np.setdiff1d(np.arange(startIdx, startIdx+tiles_per_image*4), indices_for_pos, assume_unique=True)\n",
    "        \n",
    "        # pick random indices for other tile of same class (positive) and one not in same class (negative)\n",
    "        x_positives[i] = x[indices_for_pos[random.randint(0, len(indices_for_pos) - 1)]]\n",
    "        x_negatives[i] = x[indices_for_neg[random.randint(0, len(indices_for_neg) - 1)]]\n",
    "    \n",
    "    return [x_anchors, x_positives, x_negatives]\n",
    "\n",
    "\n",
    "# data generator functions\n",
    "def data_generator(x, y, tiles_per_image, batch_size=256):\n",
    "    while True:\n",
    "        xx = create_batch(x, y, tiles_per_image, batch_size)\n",
    "        yy = np.zeros((batch_size, 3*EMB_SIZE))  # since loss function doesn't depend on classes, set to zero\n",
    "        yield xx, yy\n",
    "\n",
    "\n",
    "# triplet loss function\n",
    "def triplet_loss(y_true, y_pred):\n",
    "    anchor, positive, negative = y_pred[:,:EMB_SIZE], y_pred[:,EMB_SIZE:2*EMB_SIZE], y_pred[:,2*EMB_SIZE:]\n",
    "    positive_dist = tf.reduce_sum(tf.square(anchor - positive), axis=1)\n",
    "    negative_dist = tf.reduce_sum(tf.square(anchor - negative), axis=1)\n",
    "    return tf.maximum(positive_dist - negative_dist + ALPHA, 0.)"
   ]
  },
  {
   "cell_type": "markdown",
   "metadata": {},
   "source": [
    "## Define functions to assist with metrics computation"
   ]
  },
  {
   "cell_type": "code",
   "execution_count": null,
   "metadata": {},
   "outputs": [],
   "source": [
    "def compute_image_distances(embs, tiles_per_image):\n",
    "    # embs contains the features for each tile, tile_per_image contains the # of tiles per image in the embs\n",
    "    \n",
    "    # define some intermediate variables\n",
    "    tile_distances = euclidean_distances(embs)\n",
    "    num_classes = len(embs)//tiles_per_image\n",
    "    \n",
    "    # calculate per-image distances (approach #1) using sum of total per-tile distances\n",
    "    img_distances1 = tile_distances.reshape(num_classes,tiles_per_image,num_classes,tiles_per_image).sum(axis=(1,3))  \n",
    "    img_distances1 = img_distances1 + np.diag(np.diag(img_distances1))/(tiles_per_image-1) # correct for fact that block diagonals add up TILES_PER_IMAGE fewer distances\n",
    "    \n",
    "    # calculate per-image distances (approach #2) using euclidean difference of centroids\n",
    "    centroids = np.zeros((num_classes, EMB_SIZE))\n",
    "    for i in range(num_classes):\n",
    "        centroids[i]=embs[range(i*tiles_per_image, (i+1)*tiles_per_image),:].mean(axis=0)/2\n",
    "    img_distances2 = euclidean_distances(centroids)\n",
    "    \n",
    "    return [img_distances1, img_distances2, centroids]\n",
    "\n",
    "def mean_self_similarity_rank(D):\n",
    "    vals = np.zeros(D.shape[0])\n",
    "    for i in range(D.shape[0]):\n",
    "        vals[i] = np.where(np.argsort(D[:,i]) == i)[0].item()\n",
    "    return np.mean(vals)/(D.shape[0]-1)  # number between 0 (good) and 1 (bad)\n",
    "\n",
    "def retrieval_metrics(D, grps, epg=10, digits=2):\n",
    "    pat1=0\n",
    "    mrr=0\n",
    "    map=0\n",
    "    for k in range(grps):  # loop over similarity groups\n",
    "        for i in range(epg*k,epg*(k+1)):  # loop over each element in similarity group\n",
    "            dist = np.delete(np.stack([D[i,:], np.arange(0,D.shape[0])],axis=1),i,axis=0)\n",
    "            T = dist[np.argsort(dist[:,0]),1]\n",
    "            g = np.nonzero(np.logical_and(T>=epg*k, T<epg*(k+1)))[0]    # get rank of similar images (i.e. those with same label)\n",
    "            pat1 = pat1+(g[0]==0)/grps/epg;\n",
    "            mrr = mrr+1/(1+g[0])/grps/epg;\n",
    "            map = map+np.mean(np.arange(1,epg)/(g+1))/grps/epg;\n",
    "    \n",
    "    return [round(pat1*100,digits), round(mrr*100,digits), round(map*100,digits)]"
   ]
  },
  {
   "cell_type": "markdown",
   "metadata": {},
   "source": [
    "## Load training and validation data"
   ]
  },
  {
   "cell_type": "code",
   "execution_count": null,
   "metadata": {},
   "outputs": [],
   "source": [
    "npzfile = np.load(TRAINDATA_FILE)\n",
    "x_train = npzfile['x_train']\n",
    "y_train = npzfile['y_train']\n",
    "fnames_train = npzfile['fnames_train']  # filenames corresponding to every tile in x_train (not used below, but helpful for debug)\n",
    "classnames_train = npzfile['classnames_train']  # ordered image names (which subsequently appear in img_distanceX matrices, helpful for debug)\n",
    "x_valid = npzfile['x_valid']\n",
    "y_valid = npzfile['y_valid']\n",
    "tilesize = x_train.shape[1]  # input images presumed to be square, have this number of pixels per side \n",
    "tiles_per_image = x_train.shape[0]//classnames_train.shape[0]  # number of tiles per image (assumed adjacent in data set)\n",
    "valid_tiles_per_image = x_valid.shape[0]//classnames_train.shape[0]  # number of tiles per image in validation set\n",
    "x_train=x_train[:,:,:,np.newaxis] # add dimension\n",
    "x_valid=x_valid[:,:,:,np.newaxis]"
   ]
  },
  {
   "cell_type": "markdown",
   "metadata": {},
   "source": [
    "## Build network for multi-GPU rig"
   ]
  },
  {
   "cell_type": "markdown",
   "metadata": {},
   "source": [
    "### Callbacks"
   ]
  },
  {
   "cell_type": "code",
   "execution_count": null,
   "metadata": {},
   "outputs": [],
   "source": [
    "# Callback to compute each epoch on validation data\n",
    "class Metrics(tf.keras.callbacks.Callback):\n",
    "    def __init__(self, valid_data, valid_tiles_per_image, embmod):\n",
    "        super(Metrics, self).__init__()\n",
    "        self.x, _ = valid_data\n",
    "        self.valid_tiles_per_image = valid_tiles_per_image\n",
    "        self.embmod=embmod\n",
    "    \n",
    "    def on_epoch_end(self, epoch, logs):\n",
    "        # compute mean self-similarity score on validation set\n",
    "        embs_val = self.embmod.predict(self.x)\n",
    "        [img_distances1, _, _] = compute_image_distances(embs_val, self.valid_tiles_per_image)\n",
    "        mssr = mean_self_similarity_rank(img_distances1)\n",
    "        logs['val_mssr'] = mssr\n",
    "        \n",
    "        return\n",
    "\n",
    "# Callback to live plot losses (in Jupyter) or save to file (in vanilla Python)\n",
    "class Plotter(tf.keras.callbacks.Callback):\n",
    "    def on_train_begin(self, logs=None):\n",
    "        self.loss = []\n",
    "        self.val_loss = []\n",
    "        self.val_mssr = []\n",
    "    def on_epoch_end(self, epoch, logs=None):\n",
    "        self.loss.append(logs.get('loss'))\n",
    "        self.val_loss.append(logs.get('val_loss'))\n",
    "        self.val_mssr.append(logs.get('val_mssr'))\n",
    "        clear_output(wait=True)\n",
    "        plt.figure(figsize=(16, 5))\n",
    "        plt.semilogy(np.arange(1, epoch+2), self.val_mssr,'o-')\n",
    "        plt.semilogy(np.arange(1, epoch+2), self.val_loss,'o-')\n",
    "        plt.semilogy(np.arange(1, epoch+2), self.loss,'o-')\n",
    "        plt.grid(which='both')\n",
    "        plt.xlabel('epoch')\n",
    "        plt.ylabel('loss')\n",
    "        plt.title('loss at each epoch')\n",
    "        plt.legend(['validation mssr', 'validation loss', 'training loss'], loc='upper left')\n",
    "        if JUPYTER:\n",
    "            plt.show()\n",
    "        else:\n",
    "            plt.savefig('figs/{:04d}.png'.format(epoch+1))\n",
    "            plt.close()"
   ]
  },
  {
   "cell_type": "markdown",
   "metadata": {},
   "source": [
    "### Model description"
   ]
  },
  {
   "cell_type": "code",
   "execution_count": null,
   "metadata": {},
   "outputs": [],
   "source": [
    "# create multi-GPU setup\n",
    "strategy = tf.distribute.MirroredStrategy()\n",
    "with strategy.scope():\n",
    "    # declare neural network architecture (4-layer conv net, with fully connected layer at output)\n",
    "    input_img = tf.keras.layers.Input(shape=(tilesize, tilesize,1))\n",
    "    next = tf.keras.layers.Conv2D(16,(5, 5), activation='relu', padding='same')(input_img)\n",
    "    next = tf.keras.layers.AveragePooling2D((2, 2), padding='same')(next)\n",
    "    next = tf.keras.layers.Conv2D(32, (5, 5), activation='relu', padding='same')(next)\n",
    "    next = tf.keras.layers.AveragePooling2D((2, 2), padding='same')(next)\n",
    "    next = tf.keras.layers.Conv2D(64, (5, 5), activation='relu', padding='same')(next)\n",
    "    next = tf.keras.layers.AveragePooling2D((2, 2), padding='same')(next)\n",
    "    next = tf.keras.layers.Conv2D(128, (3, 3), activation='relu', padding='same')(next)\n",
    "    next = tf.keras.layers.AveragePooling2D((2, 2), padding='same')(next)\n",
    "    next = tf.keras.layers.Flatten()(next)\n",
    "    embedding_out_layer = tf.keras.layers.Dense(EMB_SIZE)(next)\n",
    "    model = tf.keras.Model(inputs=input_img, outputs=embedding_out_layer)\n",
    "    model.summary()\n",
    "    \n",
    "    if L2NORM:\n",
    "        embedding_model = tf.keras.Model(inputs=model.layers[0].input, outputs=tf.keras.layers.Lambda(lambda temp: tf.keras.backend.l2_normalize(temp,axis=1))(embedding_out_layer))\n",
    "    else:\n",
    "        embedding_model = tf.keras.Model(inputs=model.layers[0].input, outputs=embedding_out_layer)\n",
    "    embedding_model.summary()\n",
    "    \n",
    "    # build the Siamese network\n",
    "    input_anchor = tf.keras.layers.Input(shape=(tilesize,tilesize,1))\n",
    "    input_positive = tf.keras.layers.Input(shape=(tilesize,tilesize,1))\n",
    "    input_negative = tf.keras.layers.Input(shape=(tilesize,tilesize,1))\n",
    "    embedding_anchor = embedding_model(input_anchor)\n",
    "    embedding_positive = embedding_model(input_positive)\n",
    "    embedding_negative = embedding_model(input_negative)\n",
    "    output = tf.keras.layers.concatenate([embedding_anchor, embedding_positive, embedding_negative], axis=1)\n",
    "    net = tf.keras.models.Model([input_anchor, input_positive, input_negative], output)\n",
    "    net.summary()\n",
    "    net.compile(loss=triplet_loss, optimizer='adam')"
   ]
  },
  {
   "cell_type": "markdown",
   "metadata": {},
   "source": [
    "## Optionally load from a checkpoint, for example to resume training, or from another pre-trained model"
   ]
  },
  {
   "cell_type": "code",
   "execution_count": null,
   "metadata": {},
   "outputs": [],
   "source": [
    "embedding_model.load_weights('asil20_weights.hdf5')\n",
    "#net.load_weights('checkpoints/weights-0120.hdf5')"
   ]
  },
  {
   "cell_type": "markdown",
   "metadata": {},
   "source": [
    "## Train network, or load pre-trained model"
   ]
  },
  {
   "cell_type": "code",
   "execution_count": null,
   "metadata": {},
   "outputs": [],
   "source": [
    "if TRAIN_MODE:\n",
    "    steps_per_epoch = int(x_train.shape[0]/BATCH_SIZE)\n",
    "    if x_valid.shape[0]==0:  # data set contains no validation data\n",
    "        validation_steps = None\n",
    "        validation_data = None\n",
    "    else:                    # data set DOES contain validation data, set appropr\n",
    "        validation_steps = int(x_valid.shape[0]/BATCH_SIZE)\n",
    "        validation_data=data_generator(x_valid,y_valid,valid_tiles_per_image,BATCH_SIZE)\n",
    "    history = net.fit(\n",
    "        data_generator(x_train,y_train,tiles_per_image,BATCH_SIZE),\n",
    "        epochs=EPOCHS,\n",
    "        callbacks=[Metrics((x_valid, y_valid),valid_tiles_per_image,embedding_model), \n",
    "                   Plotter(),\n",
    "                   tf.keras.callbacks.ModelCheckpoint(filepath='checkpoints/weights-{epoch:04d}.hdf5', save_weights_only=True, save_best_only=True, monitor='val_loss')],\n",
    "        steps_per_epoch=steps_per_epoch,\n",
    "        validation_data=validation_data, validation_steps=validation_steps\n",
    "    )\n",
    "else:\n",
    "    embedding_model.load_weights(MODEL_FILENAME+'.hdf5')\n"
   ]
  },
  {
   "cell_type": "markdown",
   "metadata": {},
   "source": [
    "## Optionally save model"
   ]
  },
  {
   "cell_type": "code",
   "execution_count": null,
   "metadata": {},
   "outputs": [],
   "source": [
    "#embedding_model.save_weights(filepath='saved_model.hdf5')"
   ]
  },
  {
   "cell_type": "markdown",
   "metadata": {},
   "source": [
    "## Compute training set tile features on final/trained network. Use tile features to compute training set image distances using two methods. Report mean self-similarity rank on training set (lower is better)"
   ]
  },
  {
   "cell_type": "code",
   "execution_count": null,
   "metadata": {},
   "outputs": [],
   "source": [
    "embs = embedding_model.predict(x_train)\n",
    "[img_distances1, _, _] = compute_image_distances(embs, tiles_per_image)\n",
    "print('mean self-similarity rank: '+str(\"{:.2e}\".format(mean_self_similarity_rank(img_distances1))))"
   ]
  },
  {
   "cell_type": "markdown",
   "metadata": {},
   "source": [
    "<hr style=\"height:3px;border:none;background-color:#DC143C\" />\n",
    "\n",
    "\n",
    "## Load the test set, report results including comparison with prior approaches."
   ]
  },
  {
   "cell_type": "code",
   "execution_count": null,
   "metadata": {
    "scrolled": true
   },
   "outputs": [],
   "source": [
    "# import test tile data\n",
    "npzfile_test = np.load(TESTDATA_FILE)\n",
    "x_test = npzfile_test['x_test']\n",
    "y_test = npzfile_test['y_test']\n",
    "fnames_test = npzfile_test['fnames_test']          # filenames corresponding to every tile in x_test (not used below, but helpful for debug)\n",
    "classnames_test = npzfile_test['classnames_test']  # ordered image names (which subsequently appear in img_distanceX matrices, helpful for debug)\n",
    "test_tiles_per_image = x_test.shape[0]//classnames_test.shape[0]  # number of tiles per image (assumed adjacent in test set)\n",
    "\n",
    "# compute image distances on test set\n",
    "embs_test = embedding_model.predict(x_test)\n",
    "[_, img_distances2_test, centroids] = compute_image_distances(embs_test, test_tiles_per_image)\n"
   ]
  },
  {
   "cell_type": "markdown",
   "metadata": {},
   "source": [
    "## Save test set distances and features to Matlab file"
   ]
  },
  {
   "cell_type": "code",
   "execution_count": null,
   "metadata": {},
   "outputs": [],
   "source": [
    "# Save these variables to Matlab:\n",
    "#     D -- distance matrix ( N x N )\n",
    "#     f -- feature vector ( N x EMB_SIZE )\n",
    "#     fnames -- cell array string of filenames ( N x 1 )\n",
    "\n",
    "# permutation from alphabetical ordering to Yale IPCH ordering\n",
    "permut = [344, 345, 346, 347, 12, 13, 14, 15, 8, 9, 10, 11, 0, 1, 2, 3, 4, 5, 6, 7, 52, 53, 54, 55, 48, \n",
    "          49, 50, 51, 24, 25, 26, 27, 28, 29, 30, 31, 20, 21, 22, 23, 16, 17, 18, 19, 44, 45, 46, 47, \n",
    "          40, 41, 42, 43, 32, 33, 34, 35, 36, 37, 38, 39, 84, 85, 86, 87, 80, 81, 82, 83, 72, 73, 74, \n",
    "          75, 76, 77, 78, 79, 56, 57, 58, 59, 60, 61, 62, 63, 64, 65, 66, 67, 68, 69, 70, 71, 124, 125, \n",
    "          126, 127, 120, 121, 122, 123, 88, 89, 90, 91, 92, 93, 94, 95, 96, 97, 98, 99, 100, 101, 102, \n",
    "          103, 104, 105, 106, 107, 108, 109, 110, 111, 112, 113, 114, 115, 116, 117, 118, 119, 148, 149, \n",
    "          150, 151, 144, 145, 146, 147, 140, 141, 142, 143, 128, 129, 130, 131, 132, 133, 134, 135, 136, \n",
    "          137, 138, 139, 172, 173, 174, 175, 168, 169, 170, 171, 164, 165, 166, 167, 156, 157, 158, 159, \n",
    "          160, 161, 162, 163, 192, 193, 194, 195, 176, 177, 178, 179, 180, 181, 182, 183, 184, 185, 186, \n",
    "          187, 188, 189, 190, 191, 200, 201, 202, 203, 204, 205, 206, 207, 196, 197, 198, 199, 208, 209, \n",
    "          210, 211, 212, 213, 214, 215, 232, 233, 234, 235, 236, 237, 238, 239, 240, 241, 242, 243, 228, \n",
    "          229, 230, 231, 216, 217, 218, 219, 220, 221, 222, 223, 224, 225, 226, 227, 256, 257, 258, 259, \n",
    "          252, 253, 254, 255, 248, 249, 250, 251, 244, 245, 246, 247, 284, 285, 286, 287, 288, 289, 290, \n",
    "          291, 292, 293, 294, 295, 280, 281, 282, 283, 260, 261, 262, 263, 264, 265, 266, 267, 268, 269, \n",
    "          270, 271, 272, 273, 274, 275, 276, 277, 278, 279, 340, 341, 342, 343, 332, 333, 334, 335, 336, \n",
    "          337, 338, 339, 328, 329, 330, 331, 324, 325, 326, 327, 296, 297, 298, 299, 300, 301, 302, 303, \n",
    "          304, 305, 306, 307, 308, 309, 310, 311, 312, 313, 314, 315, 316, 317, 318, 319, 320, 321, 322, \n",
    "          323, 524, 525, 526, 527, 516, 517, 518, 519, 520, 521, 522, 523, 604, 605, 606, 607, 608, 609, \n",
    "          610, 611, 596, 597, 598, 599, 600, 601, 602, 603, 592, 593, 594, 595, 588, 589, 590, 591, 584, \n",
    "          585, 586, 587, 580, 581, 582, 583, 620, 621, 622, 623, 612, 613, 614, 615, 616, 617, 618, 619, \n",
    "          636, 637, 638, 639, 632, 633, 634, 635, 624, 625, 626, 627, 628, 629, 630, 631, 356, 357, 358, \n",
    "          359, 348, 349, 350, 351, 352, 353, 354, 355, 652, 653, 654, 655, 648, 649, 650, 651, 640, 641, \n",
    "          642, 643, 644, 645, 646, 647, 372, 373, 374, 375, 368, 369, 370, 371, 360, 361, 362, 363, 364, \n",
    "          365, 366, 367, 388, 389, 390, 391, 376, 377, 378, 379, 384, 385, 386, 387, 400, 401, 402, 403, \n",
    "          392, 393, 394, 395, 380, 381, 382, 383, 396, 397, 398, 399, 420, 421, 422, 423, 404, 405, 406, \n",
    "          407, 408, 409, 410, 411, 412, 413, 414, 415, 416, 417, 418, 419, 440, 441, 442, 443, 424, 425, \n",
    "          426, 427, 428, 429, 430, 431, 432, 433, 434, 435, 436, 437, 438, 439, 452, 453, 454, 455, 448, \n",
    "          449, 450, 451, 444, 445, 446, 447, 540, 541, 542, 543, 528, 529, 530, 531, 532, 533, 534, 535, \n",
    "          536, 537, 538, 539, 560, 561, 562, 563, 544, 545, 546, 547, 548, 549, 550, 551, 552, 553, 554, \n",
    "          555, 556, 557, 558, 559, 700, 701, 702, 703, 696, 697, 698, 699, 692, 693, 694, 695, 688, 689, \n",
    "          690, 691, 716, 717, 718, 719, 712, 713, 714, 715, 704, 705, 706, 707, 708, 709, 710, 711, 732, \n",
    "          733, 734, 735, 728, 729, 730, 731, 724, 725, 726, 727, 720, 721, 722, 723, 744, 745, 746, 747, \n",
    "          748, 749, 750, 751, 740, 741, 742, 743, 736, 737, 738, 739, 764, 765, 766, 767, 760, 761, 762, \n",
    "          763, 752, 753, 754, 755, 756, 757, 758, 759, 780, 781, 782, 783, 776, 777, 778, 779, 768, 769, \n",
    "          770, 771, 772, 773, 774, 775, 796, 797, 798, 799, 792, 793, 794, 795, 788, 789, 790, 791, 784, \n",
    "          785, 786, 787, 812, 813, 814, 815, 808, 809, 810, 811, 804, 805, 806, 807, 800, 801, 802, 803, \n",
    "          828, 829, 830, 831, 824, 825, 826, 827, 820, 821, 822, 823, 816, 817, 818, 819, 844, 845, 846, \n",
    "          847, 840, 841, 842, 843, 832, 833, 834, 835, 836, 837, 838, 839, 856, 857, 858, 859, 848, 849, \n",
    "          850, 851, 852, 853, 854, 855, 460, 461, 462, 463, 456, 457, 458, 459, 464, 465, 466, 467, 468, \n",
    "          469, 470, 471, 472, 473, 474, 475, 476, 477, 478, 479, 492, 493, 494, 495, 480, 481, 482, 483,\n",
    "          484, 485, 486, 487, 488, 489, 490, 491, 512, 513, 514, 515, 504, 505, 506, 507, 508, 509, 510, \n",
    "          511, 496, 497, 498, 499, 500, 501, 502, 503, 668, 669, 670, 671, 656, 657, 658, 659, 664, 665, \n",
    "          666, 667, 660, 661, 662, 663, 680, 681, 682, 683, 684, 685, 686, 687, 672, 673, 674, 675, 676, \n",
    "          677, 678, 679, 152, 153, 154, 155, 576, 577, 578, 579, 572, 573, 574, 575, 564, 565, 566, 567, \n",
    "          568, 569, 570, 571]\n",
    "\n",
    "sio.savemat('output.mat', {'D':img_distances2_test[permut] [:,permut], \n",
    "                           'fnames':np.asarray(classnames_test[permut], dtype='object'), \n",
    "                           'f':centroids[permut]}, oned_as='column')"
   ]
  }
 ],
 "metadata": {
  "kernelspec": {
   "display_name": "Python 3",
   "language": "python",
   "name": "python3"
  },
  "language_info": {
   "codemirror_mode": {
    "name": "ipython",
    "version": 3
   },
   "file_extension": ".py",
   "mimetype": "text/x-python",
   "name": "python",
   "nbconvert_exporter": "python",
   "pygments_lexer": "ipython3",
   "version": "3.7.6"
  }
 },
 "nbformat": 4,
 "nbformat_minor": 2
}
