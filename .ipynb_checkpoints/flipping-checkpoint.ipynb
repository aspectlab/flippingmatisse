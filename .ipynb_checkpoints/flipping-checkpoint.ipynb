{
 "cells": [
  {
   "cell_type": "markdown",
   "metadata": {},
   "source": [
    "# Triplet Network for Identifying \"Flips\" in Matisse dataset\n"
   ]
  },
  {
   "cell_type": "markdown",
   "metadata": {},
   "source": [
    "**version 0.1** -- 05/04/2021 -- AGK -- initial version"
   ]
  },
  {
   "cell_type": "markdown",
   "metadata": {},
   "source": [
    "## Import necessary libraries"
   ]
  },
  {
   "cell_type": "code",
   "execution_count": null,
   "metadata": {},
   "outputs": [],
   "source": [
    "import tensorflow as tf\n",
    "import numpy as np\n",
    "import random\n",
    "import matplotlib.pyplot as plt\n",
    "import scipy.io as sio\n",
    "from sklearn.metrics.pairwise import euclidean_distances\n",
    "from tabulate import tabulate\n",
    "from IPython.display import clear_output"
   ]
  },
  {
   "cell_type": "markdown",
   "metadata": {},
   "source": [
    "## Tweakable parameters"
   ]
  },
  {
   "cell_type": "code",
   "execution_count": null,
   "metadata": {},
   "outputs": [],
   "source": [
    "TRAIN_MODE = False                 # set to True if we need to train, set to False to load pre-trained model\n",
    "TRAINDATA_FILE = 'data/matisse_aug_valid.npz'  # file containing training and validation data set\n",
    "TESTDATA_FILE =  'data/matisse.npz'   # file containing test data set\n",
    "MODEL_FILENAME = 'saved_model'     # file to load pre-trained model (if TRAIN_MODE=False)\n",
    "EMB_SIZE = 16                      # num elements in feature vector / embedding output of NN\n",
    "BATCH_SIZE = 512                   # size of each batch\n",
    "EPOCHS = 4000                       # number of epochs to run\n",
    "ALPHA = 0.5                        # triplet loss parameter\n",
    "L2NORM = True                      # indicates whether embeddings are L2 normalized to hypersphere\n",
    "PATIENCE = 1000                      # training stop if this number of epochs go by without improvement\n",
    "JUPYTER = True                    # true for live loss plotting (.ipynb), false to save plots to files (.py)"
   ]
  },
  {
   "cell_type": "markdown",
   "metadata": {},
   "source": [
    "## Define functions to assist with triplet data generation and triplet loss"
   ]
  },
  {
   "cell_type": "code",
   "execution_count": null,
   "metadata": {},
   "outputs": [],
   "source": [
    "# function to create a batch of triplets\n",
    "def create_batch(x, y, tiles_per_image, batch_size=256):\n",
    "    x_anchors = np.zeros((batch_size, x.shape[1], x.shape[1],1))\n",
    "    x_positives = np.zeros((batch_size, x.shape[1], x.shape[1],1))\n",
    "    x_negatives = np.zeros((batch_size, x.shape[1], x.shape[1],1))\n",
    "    \n",
    "    for i in range(0, batch_size):\n",
    "        # Pick a random anchor\n",
    "        random_index = random.randint(0, x.shape[0] - 1)  # pick a random index for anchor\n",
    "        x_anchors[i] = x[random_index]                    # grab anchor image\n",
    "        \n",
    "        # grab indices of all images in same class, and those not in same class\n",
    "        indices_for_pos = np.squeeze(np.where(y == y[random_index]))\n",
    "        startIdx=np.int64(np.floor(random_index/tiles_per_image/4)*tiles_per_image*4)\n",
    "        indices_for_neg = np.setdiff1d(np.arange(startIdx, startIdx+tiles_per_image*4), indices_for_pos, assume_unique=True)\n",
    "        \n",
    "        # pick random indices for other tile of same class (positive) and one not in same class (negative)\n",
    "        x_positives[i] = x[indices_for_pos[random.randint(0, len(indices_for_pos) - 1)]]\n",
    "        x_negatives[i] = x[indices_for_neg[random.randint(0, len(indices_for_neg) - 1)]]\n",
    "    \n",
    "    return [x_anchors, x_positives, x_negatives]\n",
    "\n",
    "\n",
    "# data generator functions\n",
    "def data_generator(x, y, tiles_per_image, batch_size=256):\n",
    "    while True:\n",
    "        xx = create_batch(x, y, tiles_per_image, batch_size)\n",
    "        yy = np.zeros((batch_size, 3*EMB_SIZE))  # since loss function doesn't depend on classes, set to zero\n",
    "        yield xx, yy\n",
    "\n",
    "\n",
    "# triplet loss function\n",
    "def triplet_loss(y_true, y_pred):\n",
    "    anchor, positive, negative = y_pred[:,:EMB_SIZE], y_pred[:,EMB_SIZE:2*EMB_SIZE], y_pred[:,2*EMB_SIZE:]\n",
    "    positive_dist = tf.reduce_sum(tf.square(anchor - positive), axis=1)\n",
    "    negative_dist = tf.reduce_sum(tf.square(anchor - negative), axis=1)\n",
    "    return tf.maximum(positive_dist - negative_dist + ALPHA, 0.)"
   ]
  },
  {
   "cell_type": "markdown",
   "metadata": {},
   "source": [
    "## Define functions to assist with metrics computation"
   ]
  },
  {
   "cell_type": "code",
   "execution_count": null,
   "metadata": {},
   "outputs": [],
   "source": [
    "def compute_image_distances(embs, tiles_per_image):\n",
    "    # embs contains the features for each tile, tile_per_image contains the # of tiles per image in the embs\n",
    "    \n",
    "    # define some intermediate variables\n",
    "    tile_distances = euclidean_distances(embs)\n",
    "    num_classes = len(embs)//tiles_per_image\n",
    "    \n",
    "    # calculate per-image distances (approach #1) using sum of total per-tile distances\n",
    "    img_distances1 = tile_distances.reshape(num_classes,tiles_per_image,num_classes,tiles_per_image).sum(axis=(1,3))  \n",
    "    img_distances1 = img_distances1 + np.diag(np.diag(img_distances1))/(tiles_per_image-1) # correct for fact that block diagonals add up TILES_PER_IMAGE fewer distances\n",
    "    \n",
    "    # calculate per-image distances (approach #2) using euclidean difference of centroids\n",
    "    centroids = np.zeros((num_classes, EMB_SIZE))\n",
    "    for i in range(num_classes):\n",
    "        centroids[i]=embs[range(i*tiles_per_image, (i+1)*tiles_per_image),:].sum(axis=0)\n",
    "    img_distances2 = euclidean_distances(centroids)\n",
    "    \n",
    "    return [img_distances1, img_distances2, centroids]\n",
    "\n",
    "def mean_self_similarity_rank(D):\n",
    "    vals = np.zeros(D.shape[0])\n",
    "    for i in range(D.shape[0]):\n",
    "        vals[i] = np.where(np.argsort(D[:,i]) == i)[0].item()\n",
    "    return np.mean(vals)/(D.shape[0]-1)  # number between 0 (good) and 1 (bad)\n",
    "\n",
    "def retrieval_metrics(D, grps, epg=10, digits=2):\n",
    "    pat1=0\n",
    "    mrr=0\n",
    "    map=0\n",
    "    for k in range(grps):  # loop over similarity groups\n",
    "        for i in range(epg*k,epg*(k+1)):  # loop over each element in similarity group\n",
    "            dist = np.delete(np.stack([D[i,:], np.arange(0,D.shape[0])],axis=1),i,axis=0)\n",
    "            T = dist[np.argsort(dist[:,0]),1]\n",
    "            g = np.nonzero(np.logical_and(T>=epg*k, T<epg*(k+1)))[0]    # get rank of similar images (i.e. those with same label)\n",
    "            pat1 = pat1+(g[0]==0)/grps/epg;\n",
    "            mrr = mrr+1/(1+g[0])/grps/epg;\n",
    "            map = map+np.mean(np.arange(1,epg)/(g+1))/grps/epg;\n",
    "    \n",
    "    return [round(pat1*100,digits), round(mrr*100,digits), round(map*100,digits)]"
   ]
  },
  {
   "cell_type": "markdown",
   "metadata": {},
   "source": [
    "## Load training and validation data"
   ]
  },
  {
   "cell_type": "code",
   "execution_count": null,
   "metadata": {},
   "outputs": [],
   "source": [
    "npzfile = np.load(TRAINDATA_FILE)\n",
    "x_train = npzfile['x_train']\n",
    "y_train = npzfile['y_train']\n",
    "fnames_train = npzfile['fnames_train']  # filenames corresponding to every tile in x_train (not used below, but helpful for debug)\n",
    "classnames_train = npzfile['classnames_train']  # ordered image names (which subsequently appear in img_distanceX matrices, helpful for debug)\n",
    "x_valid = npzfile['x_valid']\n",
    "y_valid = npzfile['y_valid']\n",
    "tilesize = x_train.shape[1]  # input images presumed to be square, have this number of pixels per side \n",
    "tiles_per_image = x_train.shape[0]//classnames_train.shape[0]  # number of tiles per image (assumed adjacent in data set)\n",
    "valid_tiles_per_image = x_valid.shape[0]//classnames_train.shape[0]  # number of tiles per image in validation set\n",
    "x_train=x_train[:,:,:,np.newaxis] # add dimension\n",
    "x_valid=x_valid[:,:,:,np.newaxis]"
   ]
  },
  {
   "cell_type": "markdown",
   "metadata": {},
   "source": [
    "## Build network for multi-GPU rig"
   ]
  },
  {
   "cell_type": "markdown",
   "metadata": {},
   "source": [
    "### Callbacks"
   ]
  },
  {
   "cell_type": "code",
   "execution_count": null,
   "metadata": {},
   "outputs": [],
   "source": [
    "# Callback to compute each epoch on validation data\n",
    "class Metrics(tf.keras.callbacks.Callback):\n",
    "    def __init__(self, valid_data, valid_tiles_per_image, embmod):\n",
    "        super(Metrics, self).__init__()\n",
    "        self.x, _ = valid_data\n",
    "        self.valid_tiles_per_image = valid_tiles_per_image\n",
    "        self.embmod=embmod\n",
    "    \n",
    "    def on_epoch_end(self, epoch, logs):\n",
    "        # compute mean self-similarity score on validation set\n",
    "        embs_val = self.embmod.predict(self.x)\n",
    "        [img_distances1, _, _] = compute_image_distances(embs_val, self.valid_tiles_per_image)\n",
    "        mssr = mean_self_similarity_rank(img_distances1)\n",
    "        logs['val_mssr'] = mssr\n",
    "        \n",
    "        return\n",
    "\n",
    "# Callback to live plot losses (in Jupyter) or save to file (in vanilla Python)\n",
    "class Plotter(tf.keras.callbacks.Callback):\n",
    "    def on_train_begin(self, logs=None):\n",
    "        self.loss = []\n",
    "        self.val_loss = []\n",
    "        self.val_mssr = []\n",
    "    def on_epoch_end(self, epoch, logs=None):\n",
    "        self.loss.append(logs.get('loss'))\n",
    "        self.val_loss.append(logs.get('val_loss'))\n",
    "        self.val_mssr.append(logs.get('val_mssr'))\n",
    "        clear_output(wait=True)\n",
    "        plt.figure(figsize=(16, 5))\n",
    "        plt.semilogy(np.arange(1, epoch+2), self.val_mssr,'o-')\n",
    "        plt.semilogy(np.arange(1, epoch+2), self.val_loss,'o-')\n",
    "        plt.semilogy(np.arange(1, epoch+2), self.loss,'o-')\n",
    "        plt.grid()\n",
    "        plt.xlabel('epoch')\n",
    "        plt.ylabel('loss')\n",
    "        plt.title('loss at each epoch')\n",
    "        plt.legend(['validation mssr', 'validation loss', 'training loss'], loc='upper left')\n",
    "        if JUPYTER:\n",
    "            plt.show()\n",
    "        else:\n",
    "            plt.savefig('figs/{:04d}.png'.format(epoch+1))\n",
    "            plt.close()"
   ]
  },
  {
   "cell_type": "markdown",
   "metadata": {},
   "source": [
    "### Model description"
   ]
  },
  {
   "cell_type": "code",
   "execution_count": null,
   "metadata": {},
   "outputs": [],
   "source": [
    "# create multi-GPU setup\n",
    "strategy = tf.distribute.MirroredStrategy()\n",
    "with strategy.scope():\n",
    "    # declare neural network architecture (4-layer conv net, with fully connected layer at output)\n",
    "    input_img = tf.keras.layers.Input(shape=(tilesize, tilesize,1))\n",
    "    next = tf.keras.layers.Conv2D(16,(5, 5), activation='relu', padding='same')(input_img)\n",
    "    next = tf.keras.layers.AveragePooling2D((2, 2), padding='same')(next)\n",
    "    next = tf.keras.layers.Conv2D(32, (5, 5), activation='relu', padding='same')(next)\n",
    "    next = tf.keras.layers.AveragePooling2D((2, 2), padding='same')(next)\n",
    "    next = tf.keras.layers.Conv2D(64, (5, 5), activation='relu', padding='same')(next)\n",
    "    next = tf.keras.layers.AveragePooling2D((2, 2), padding='same')(next)\n",
    "    next = tf.keras.layers.Conv2D(128, (3, 3), activation='relu', padding='same')(next)\n",
    "    next = tf.keras.layers.AveragePooling2D((2, 2), padding='same')(next)\n",
    "    next = tf.keras.layers.Flatten()(next)\n",
    "    embedding_out_layer = tf.keras.layers.Dense(EMB_SIZE)(next)\n",
    "    model = tf.keras.Model(inputs=input_img, outputs=embedding_out_layer)\n",
    "    model.summary()\n",
    "    \n",
    "    if L2NORM:\n",
    "        embedding_model = tf.keras.Model(inputs=model.layers[0].input, outputs=tf.keras.layers.Lambda(lambda temp: tf.keras.backend.l2_normalize(temp,axis=1))(embedding_out_layer))\n",
    "    else:\n",
    "        embedding_model = tf.keras.Model(inputs=model.layers[0].input, outputs=embedding_out_layer)\n",
    "    embedding_model.summary()\n",
    "    \n",
    "    # build the Siamese network\n",
    "    input_anchor = tf.keras.layers.Input(shape=(tilesize,tilesize,1))\n",
    "    input_positive = tf.keras.layers.Input(shape=(tilesize,tilesize,1))\n",
    "    input_negative = tf.keras.layers.Input(shape=(tilesize,tilesize,1))\n",
    "    embedding_anchor = embedding_model(input_anchor)\n",
    "    embedding_positive = embedding_model(input_positive)\n",
    "    embedding_negative = embedding_model(input_negative)\n",
    "    output = tf.keras.layers.concatenate([embedding_anchor, embedding_positive, embedding_negative], axis=1)\n",
    "    net = tf.keras.models.Model([input_anchor, input_positive, input_negative], output)\n",
    "    net.summary()\n",
    "    net.compile(loss=triplet_loss, optimizer='adam')"
   ]
  },
  {
   "cell_type": "markdown",
   "metadata": {},
   "source": [
    "## Optionally load from a checkpoint, for example to resume training"
   ]
  },
  {
   "cell_type": "code",
   "execution_count": null,
   "metadata": {},
   "outputs": [],
   "source": [
    "#net.load_weights('checkpoints/weights-0120.hdf5')"
   ]
  },
  {
   "cell_type": "markdown",
   "metadata": {},
   "source": [
    "## Train network, or load pre-trained model"
   ]
  },
  {
   "cell_type": "code",
   "execution_count": null,
   "metadata": {},
   "outputs": [],
   "source": [
    "if TRAIN_MODE:\n",
    "    steps_per_epoch = int(x_train.shape[0]/BATCH_SIZE)\n",
    "    if x_valid.shape[0]==0:  # data set contains no validation data\n",
    "        validation_steps = None\n",
    "        validation_data = None\n",
    "    else:                    # data set DOES contain validation data, set appropr\n",
    "        validation_steps = int(x_valid.shape[0]/BATCH_SIZE)\n",
    "        validation_data=data_generator(x_valid,y_valid,valid_tiles_per_image,BATCH_SIZE)\n",
    "    history = net.fit(\n",
    "        data_generator(x_train,y_train,tiles_per_image,BATCH_SIZE),\n",
    "        epochs=EPOCHS,\n",
    "        callbacks=[Metrics((x_valid, y_valid),valid_tiles_per_image,embedding_model), \n",
    "                   Plotter(),\n",
    "                   tf.keras.callbacks.ModelCheckpoint(filepath='checkpoints/weights-{epoch:04d}.hdf5', save_weights_only=True, save_best_only=True, monitor='val_mssr'),\n",
    "                   tf.keras.callbacks.EarlyStopping(monitor=\"val_mssr\", patience=PATIENCE, mode=\"min\")],\n",
    "        steps_per_epoch=steps_per_epoch,\n",
    "        validation_data=validation_data, validation_steps=validation_steps\n",
    "    )\n",
    "else:\n",
    "    embedding_model.load_weights(MODEL_FILENAME+'.hdf5')\n"
   ]
  },
  {
   "cell_type": "markdown",
   "metadata": {},
   "source": [
    "## Optionally save model"
   ]
  },
  {
   "cell_type": "code",
   "execution_count": null,
   "metadata": {},
   "outputs": [],
   "source": [
    "#embedding_model.save_weights(filepath='saved_model.hdf5')"
   ]
  },
  {
   "cell_type": "markdown",
   "metadata": {},
   "source": [
    "## Compute training set tile features on final/trained network. Use tile features to compute training set image distances using two methods. Report mean self-similarity rank on training set (lower is better)"
   ]
  },
  {
   "cell_type": "code",
   "execution_count": null,
   "metadata": {},
   "outputs": [],
   "source": [
    "embs = embedding_model.predict(x_train)\n",
    "[img_distances1, _, _] = compute_image_distances(embs, tiles_per_image)\n",
    "print('mean self-similarity rank: '+str(\"{:.2e}\".format(mean_self_similarity_rank(img_distances1))))"
   ]
  },
  {
   "cell_type": "markdown",
   "metadata": {},
   "source": [
    "<hr style=\"height:3px;border:none;background-color:#DC143C\" />\n",
    "\n",
    "\n",
    "## Load the test set, report results including comparison with prior approaches."
   ]
  },
  {
   "cell_type": "code",
   "execution_count": null,
   "metadata": {
    "scrolled": true
   },
   "outputs": [],
   "source": [
    "# import test tile data\n",
    "npzfile_test = np.load(TESTDATA_FILE)\n",
    "x_test = npzfile_test['x_test']\n",
    "y_test = npzfile_test['y_test']\n",
    "fnames_test = npzfile_test['fnames_test']          # filenames corresponding to every tile in x_test (not used below, but helpful for debug)\n",
    "classnames_test = npzfile_test['classnames_test']  # ordered image names (which subsequently appear in img_distanceX matrices, helpful for debug)\n",
    "test_tiles_per_image = x_test.shape[0]//classnames_test.shape[0]  # number of tiles per image (assumed adjacent in test set)\n",
    "\n",
    "# compute image distances on test set\n",
    "embs_test = embedding_model.predict(x_test)\n",
    "[_, img_distances2_test, centroids] = compute_image_distances(embs_test, test_tiles_per_image)\n"
   ]
  },
  {
   "cell_type": "markdown",
   "metadata": {},
   "source": [
    "## Save test set distances and features to Matlab file"
   ]
  },
  {
   "cell_type": "code",
   "execution_count": null,
   "metadata": {},
   "outputs": [],
   "source": [
    "# Save these variables to Matlab:\n",
    "#     D -- distance matrix ( N x N )\n",
    "#     f -- feature vector ( N x EMB_SIZE )\n",
    "#     fnames -- cell array string of filenames ( N x 1 )\n",
    "sio.savemat('output.mat', {'D':img_distances2_test, 'fnames':np.asarray(classnames_test, dtype='object'), 'f':centroids}, oned_as='column')"
   ]
  }
 ],
 "metadata": {
  "kernelspec": {
   "display_name": "Python 3",
   "language": "python",
   "name": "python3"
  },
  "language_info": {
   "codemirror_mode": {
    "name": "ipython",
    "version": 3
   },
   "file_extension": ".py",
   "mimetype": "text/x-python",
   "name": "python",
   "nbconvert_exporter": "python",
   "pygments_lexer": "ipython3",
   "version": "3.7.6"
  }
 },
 "nbformat": 4,
 "nbformat_minor": 2
}
